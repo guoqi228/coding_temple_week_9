{
 "cells": [
  {
   "cell_type": "markdown",
   "metadata": {},
   "source": [
    "# Exercises"
   ]
  },
  {
   "cell_type": "markdown",
   "metadata": {},
   "source": [
    "### #1 - Calculate the BMI (body mass index) on the two lists below using NDArrays..."
   ]
  },
  {
   "cell_type": "code",
   "execution_count": 90,
   "metadata": {},
   "outputs": [
    {
     "data": {
      "text/plain": [
       "array([16.86620458, 17.87755102, 18.82562984, 19.71450617, 20.54794521,\n",
       "       21.32943755, 22.06222222])"
      ]
     },
     "execution_count": 90,
     "metadata": {},
     "output_type": "execute_result"
    }
   ],
   "source": [
    "import csv\n",
    "import numpy as np\n",
    "from datetime import datetime\n",
    "from datetime import timedelta\n",
    "# formula = weight / (height**2) * 730\n",
    "height = [69, 70, 71, 72, 73, 74, 75]\n",
    "weight = [110, 120, 130, 140, 150, 160, 170]\n",
    "\n",
    "out = np.array(weight) / (np.array(height) ** 2) * 730\n",
    "out"
   ]
  },
  {
   "cell_type": "markdown",
   "metadata": {},
   "source": [
    "\n",
    "### #2 - Find the average and sum of the 'Official Time' for all of the marathon runners"
   ]
  },
  {
   "cell_type": "code",
   "execution_count": 91,
   "metadata": {},
   "outputs": [
    {
     "name": "stdout",
     "output_type": "stream",
     "text": [
      "<class 'numpy.ndarray'>\n",
      "<class 'datetime.timedelta'>\n",
      "4336 days, 20:57:48\n"
     ]
    }
   ],
   "source": [
    "def time_func(x):\n",
    "    datetime_object = datetime.strptime(x, '%H:%M:%S')\n",
    "    duration = timedelta(hours=datetime_object.hour, minutes=datetime_object.minute, seconds=datetime_object.second)\n",
    "    return duration\n",
    "all_durations = np.genfromtxt('boston_marathon2017.csv', delimiter=',', skip_header=1, usecols=(19), \n",
    "                              invalid_raise=False, encoding='utf-8', dtype = object, converters = {19: time_func})\n",
    "print(type(all_durations))\n",
    "print(type(all_durations[0]))\n",
    "print(np.sum(all_durations))"
   ]
  },
  {
   "cell_type": "markdown",
   "metadata": {},
   "source": [
    "### #3 - Create a function that will take in two parameters and will create a random matrix based off of those parameters. Extra: Have additional parameters taken in that allow the user to choose the shape and data type of the matrix."
   ]
  },
  {
   "cell_type": "code",
   "execution_count": 92,
   "metadata": {},
   "outputs": [
    {
     "data": {
      "text/plain": [
       "array([[0.69470029, 0.8603744 , 0.15838121, 0.28333149],\n",
       "       [0.55825061, 0.13839477, 0.09989858, 0.4812125 ],\n",
       "       [0.30135386, 0.82184942, 0.00179505, 0.46551265]])"
      ]
     },
     "execution_count": 92,
     "metadata": {},
     "output_type": "execute_result"
    }
   ],
   "source": [
    "def create_matrix(row_size, col_size, data_type):\n",
    "    if data_type == 'int':\n",
    "        return np.random.randint(0, 10, size=(row_size, col_size))\n",
    "    elif data_type == 'float':\n",
    "        return np.random.rand(row_size, col_size)\n",
    "    else:\n",
    "        print(\"The data type can only be 'int' or 'float'!\")\n",
    "create_matrix(3, 4, 'float')"
   ]
  },
  {
   "cell_type": "markdown",
   "metadata": {},
   "source": [
    "### #4 - Extra: Open and load the data in the two text files that have the Boston Red Sox hitting data for the past two seasons. Compare the difference in the two years by putting the data into an NDArray and running a differencial operation on it."
   ]
  },
  {
   "cell_type": "code",
   "execution_count": 93,
   "metadata": {},
   "outputs": [
    {
     "data": {
      "text/plain": [
       "28"
      ]
     },
     "execution_count": 93,
     "metadata": {},
     "output_type": "execute_result"
    }
   ],
   "source": [
    "# FIELDNAMES = ['Rk', 'Pos', 'Name', 'Age', 'G', 'PA', 'AB', 'R', 'H', '2B', '3B',\n",
    "#              'HR', 'RBI', 'SB', 'CS', 'BB', 'SO', 'BA', 'OBP', 'SLG', 'OPS', 'OPS+',\n",
    "#              'TB', 'GDP', 'HBP', 'SH', 'SF', 'IBB']\n",
    "dnames = ['Rk','Pos','Name','Age','G','PA','AB','R','H','2B','3B','HR','RBI','SB','CS','BB','SO','BA','OBP','SLG','OPS','OPS+','TB','GDP','HBP','SH','SF','IBB']\n",
    "# len(FIELDNAMES)\n",
    "# data_2017 = \n",
    "# dnames = \"Rk,Pos,Name,Age,G,PA,AB,R,H,2B,3B,HR,RBI,SB,CS,BB,SO,BA,OBP,SLG,OPS,OPS+,TB,GDP,HBP,SH,SF,IBB\"\n",
    "row_1 = \"1,C,Christian Vazquez\\vazquch01,26,99,345,324,43,94,18,2,5,32,7,2,17,64,.290,.330,.404,.735,91,131,14,3,0,1,0\"\n",
    "dtypes = [int, object, object, int, int, int, int, int, int, int, int ,int, int, int, int, int, int, float, float, float, float, int, int, int, int, int, int ,int]\n",
    "len(dtypes)"
   ]
  },
  {
   "cell_type": "code",
   "execution_count": 94,
   "metadata": {},
   "outputs": [
    {
     "data": {
      "text/plain": [
       "array([ 0,  1,  2,  3,  4,  5,  6,  7,  8,  9, 10, 11, 12, 13, 14, 15, 16,\n",
       "       17, 18, 19, 20, 21, 22, 23, 24, 25, 26, 27])"
      ]
     },
     "execution_count": 94,
     "metadata": {},
     "output_type": "execute_result"
    }
   ],
   "source": [
    "np.arange(28)"
   ]
  },
  {
   "cell_type": "code",
   "execution_count": 95,
   "metadata": {},
   "outputs": [
    {
     "name": "stdout",
     "output_type": "stream",
     "text": [
      "(2, b'1B', b'Mitch Moreland*\\\\morelmi01', 31, 149, 576, 508, 73, 125, 34, 0, 22, 79, 0, 1, 57, 120, 0.246, 0.326, 0.443, 0.769, 99, 225, 14, 6, 0, 5, 6)\n"
     ]
    }
   ],
   "source": [
    "data_2017 = np.genfromtxt('redsox_2017_hitting.txt', delimiter=',', skip_header=1, usecols=(np.arange(28)),\n",
    "                         invalid_raise=False, encoding='utf-8', names=dnames, dtype = dtypes)\n",
    "print(data_2017[1])"
   ]
  },
  {
   "cell_type": "code",
   "execution_count": 96,
   "metadata": {},
   "outputs": [
    {
     "data": {
      "text/plain": [
       "array([(2, b'1B', b'Mitch Moreland*\\\\morelmi01', 31, 149, 576, 508, 73, 125, 34, 0, 22, 79, 0, 1, 57, 120, 0.246, 0.326, 0.443, 0.769,  99, 225, 14, 6, 0, 5, 6),\n",
       "       (3, b'2B', b'Dustin Pedroia\\\\pedrodu01', 33, 105, 463, 406, 46, 119, 19, 0,  7, 62, 4, 3, 49,  48, 0.293, 0.369, 0.392, 0.76 , 100, 159, 11, 2, 2, 4, 4)],\n",
       "      dtype=[('Rk', '<i4'), ('Pos', 'O'), ('Name', 'O'), ('Age', '<i4'), ('G', '<i4'), ('PA', '<i4'), ('AB', '<i4'), ('R', '<i4'), ('H', '<i4'), ('2B', '<i4'), ('3B', '<i4'), ('HR', '<i4'), ('RBI', '<i4'), ('SB', '<i4'), ('CS', '<i4'), ('BB', '<i4'), ('SO', '<i4'), ('BA', '<f8'), ('OBP', '<f8'), ('SLG', '<f8'), ('OPS', '<f8'), ('OPS_1', '<i4'), ('TB', '<i4'), ('GDP', '<i4'), ('HBP', '<i4'), ('SH', '<i4'), ('SF', '<i4'), ('IBB', '<i4')])"
      ]
     },
     "execution_count": 96,
     "metadata": {},
     "output_type": "execute_result"
    }
   ],
   "source": [
    "data_2017[1:3]"
   ]
  },
  {
   "cell_type": "code",
   "execution_count": 97,
   "metadata": {},
   "outputs": [
    {
     "data": {
      "text/plain": [
       "array([(3, b'2B', b'Dustin Pedroia\\\\pedrodu01', 33, 105, 463, 406, 46, 119, 19, 0, 7, 62, 4, 3, 49, 48, 0.293, 0.369, 0.392, 0.76, 100, 159, 11, 2, 2, 4, 4)],\n",
       "      dtype=[('Rk', '<i4'), ('Pos', 'O'), ('Name', 'O'), ('Age', '<i4'), ('G', '<i4'), ('PA', '<i4'), ('AB', '<i4'), ('R', '<i4'), ('H', '<i4'), ('2B', '<i4'), ('3B', '<i4'), ('HR', '<i4'), ('RBI', '<i4'), ('SB', '<i4'), ('CS', '<i4'), ('BB', '<i4'), ('SO', '<i4'), ('BA', '<f8'), ('OBP', '<f8'), ('SLG', '<f8'), ('OPS', '<f8'), ('OPS_1', '<i4'), ('TB', '<i4'), ('GDP', '<i4'), ('HBP', '<i4'), ('SH', '<i4'), ('SF', '<i4'), ('IBB', '<i4')])"
      ]
     },
     "execution_count": 97,
     "metadata": {},
     "output_type": "execute_result"
    }
   ],
   "source": [
    "data_2017 = data_2017[:]\n",
    "data_2017[1:3][1:3]"
   ]
  },
  {
   "cell_type": "code",
   "execution_count": 98,
   "metadata": {},
   "outputs": [
    {
     "data": {
      "text/plain": [
       "array([ 99, 149, 105, 148,  58, 151, 133, 153, 133,  85,  90,  71,  38,\n",
       "        64,  37,  32,  33,  25,  21,  17,   8,   6,   2])"
      ]
     },
     "execution_count": 98,
     "metadata": {},
     "output_type": "execute_result"
    }
   ],
   "source": [
    "G_2017 = np.genfromtxt('redsox_2017_hitting.txt', delimiter=',', skip_header=1, usecols=(4),\n",
    "                         invalid_raise=False, encoding='utf-8', dtype = int)\n",
    "G_2017"
   ]
  },
  {
   "cell_type": "code",
   "execution_count": 100,
   "metadata": {},
   "outputs": [
    {
     "data": {
      "text/plain": [
       "array([60, 82, 87, 87, 96, 99, 93, 86, 99, 65, 44, 52, 47, 15, 19,  5,  3])"
      ]
     },
     "execution_count": 100,
     "metadata": {},
     "output_type": "execute_result"
    }
   ],
   "source": [
    "G_2018 = np.genfromtxt('redsox_2018_hitting.txt', delimiter=',', skip_header=1, usecols=(4),\n",
    "                         invalid_raise=False, encoding='utf-8', dtype = int)\n",
    "G_2018"
   ]
  },
  {
   "cell_type": "code",
   "execution_count": 102,
   "metadata": {},
   "outputs": [
    {
     "data": {
      "text/plain": [
       "-10.969309462915596"
      ]
     },
     "execution_count": 102,
     "metadata": {},
     "output_type": "execute_result"
    }
   ],
   "source": [
    "G_diff = np.mean(G_2018) - np.mean(G_2017)\n",
    "G_diff"
   ]
  },
  {
   "cell_type": "code",
   "execution_count": null,
   "metadata": {},
   "outputs": [],
   "source": []
  }
 ],
 "metadata": {
  "kernelspec": {
   "display_name": "Python 3",
   "language": "python",
   "name": "python3"
  },
  "language_info": {
   "codemirror_mode": {
    "name": "ipython",
    "version": 3
   },
   "file_extension": ".py",
   "mimetype": "text/x-python",
   "name": "python",
   "nbconvert_exporter": "python",
   "pygments_lexer": "ipython3",
   "version": "3.6.5"
  }
 },
 "nbformat": 4,
 "nbformat_minor": 2
}
